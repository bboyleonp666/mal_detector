{
 "cells": [
  {
   "cell_type": "code",
   "execution_count": 1,
   "id": "8d799520-af6a-4966-9ca6-0b7d5b95c1bb",
   "metadata": {
    "tags": []
   },
   "outputs": [
    {
     "name": "stdout",
     "output_type": "stream",
     "text": [
      "Versions\n",
      "--------------------\n",
      "Pytorch              1.13.1+cu117\n",
      "Pytorch-Geometric    2.2.0\n",
      "--------------------\n",
      "GPU Support          True\n"
     ]
    }
   ],
   "source": [
    "import os\n",
    "import numpy as np\n",
    "import pandas as pd\n",
    "import networkx as nx\n",
    "from tqdm import tqdm\n",
    "from datetime import datetime\n",
    "from joblib import Parallel, delayed\n",
    "\n",
    "import torch\n",
    "import torch.nn as nn\n",
    "import torch.nn.functional as F\n",
    "import torch.optim as optim\n",
    "\n",
    "import torch_geometric as pyg\n",
    "from torch_geometric.data import Data\n",
    "from torch_geometric.loader import DataLoader\n",
    "\n",
    "from models import GCN, TorchTrainer\n",
    "from utils import read_pickle, split_df, get_file_paths, DataProcessor\n",
    "\n",
    "print('Versions')\n",
    "print('-' * 20)\n",
    "print(f'{\"Pytorch\":<20} {torch.__version__}')\n",
    "print(f'{\"Pytorch-Geometric\":<20} {pyg.__version__}')\n",
    "print('-' * 20)\n",
    "print(f'{\"GPU Support\":<20} {torch.cuda.is_available()}')"
   ]
  },
  {
   "cell_type": "code",
   "execution_count": 2,
   "id": "79b043aa-d426-41bc-b7ff-7c1e90f34884",
   "metadata": {
    "tags": []
   },
   "outputs": [
    {
     "data": {
      "text/html": [
       "<div>\n",
       "<style scoped>\n",
       "    .dataframe tbody tr th:only-of-type {\n",
       "        vertical-align: middle;\n",
       "    }\n",
       "\n",
       "    .dataframe tbody tr th {\n",
       "        vertical-align: top;\n",
       "    }\n",
       "\n",
       "    .dataframe thead th {\n",
       "        text-align: right;\n",
       "    }\n",
       "</style>\n",
       "<table border=\"1\" class=\"dataframe\">\n",
       "  <thead>\n",
       "    <tr style=\"text-align: right;\">\n",
       "      <th></th>\n",
       "      <th>sha256</th>\n",
       "      <th>path</th>\n",
       "      <th>family</th>\n",
       "      <th>threshold</th>\n",
       "      <th>arch</th>\n",
       "      <th>label</th>\n",
       "      <th>malicious</th>\n",
       "    </tr>\n",
       "  </thead>\n",
       "  <tbody>\n",
       "    <tr>\n",
       "      <th>0</th>\n",
       "      <td>1263d19ea264fd53e7d21755752b37101ba247ed6d0e24...</td>\n",
       "      <td>FCGs/mal_graphs/1263d19ea264fd53e7d21755752b37...</td>\n",
       "      <td>Mirai</td>\n",
       "      <td>True</td>\n",
       "      <td>x86el</td>\n",
       "      <td>0</td>\n",
       "      <td>1</td>\n",
       "    </tr>\n",
       "    <tr>\n",
       "      <th>1</th>\n",
       "      <td>48309f7ef98e9597eedacc02fba7ba3761e6f00712adbb...</td>\n",
       "      <td>FCGs/mal_graphs/48309f7ef98e9597eedacc02fba7ba...</td>\n",
       "      <td>Mirai</td>\n",
       "      <td>True</td>\n",
       "      <td>x86el</td>\n",
       "      <td>0</td>\n",
       "      <td>1</td>\n",
       "    </tr>\n",
       "    <tr>\n",
       "      <th>2</th>\n",
       "      <td>f399487df0dd96d02f6a4a95b1dd4f6e1934d92463d06f...</td>\n",
       "      <td>FCGs/mal_graphs/f399487df0dd96d02f6a4a95b1dd4f...</td>\n",
       "      <td>Mirai</td>\n",
       "      <td>True</td>\n",
       "      <td>x86el</td>\n",
       "      <td>0</td>\n",
       "      <td>1</td>\n",
       "    </tr>\n",
       "    <tr>\n",
       "      <th>3</th>\n",
       "      <td>a9451891dd42875fb275a14cf7b5970d3de488f6557d12...</td>\n",
       "      <td>FCGs/mal_graphs/a9451891dd42875fb275a14cf7b597...</td>\n",
       "      <td>Bashlite</td>\n",
       "      <td>True</td>\n",
       "      <td>x86el</td>\n",
       "      <td>1</td>\n",
       "      <td>1</td>\n",
       "    </tr>\n",
       "    <tr>\n",
       "      <th>4</th>\n",
       "      <td>80dca6a3359ca5becb1d1bf0cf405249b6200caa2c97bd...</td>\n",
       "      <td>FCGs/mal_graphs/80dca6a3359ca5becb1d1bf0cf4052...</td>\n",
       "      <td>Mirai</td>\n",
       "      <td>True</td>\n",
       "      <td>x86el</td>\n",
       "      <td>0</td>\n",
       "      <td>1</td>\n",
       "    </tr>\n",
       "  </tbody>\n",
       "</table>\n",
       "</div>"
      ],
      "text/plain": [
       "                                              sha256  \\\n",
       "0  1263d19ea264fd53e7d21755752b37101ba247ed6d0e24...   \n",
       "1  48309f7ef98e9597eedacc02fba7ba3761e6f00712adbb...   \n",
       "2  f399487df0dd96d02f6a4a95b1dd4f6e1934d92463d06f...   \n",
       "3  a9451891dd42875fb275a14cf7b5970d3de488f6557d12...   \n",
       "4  80dca6a3359ca5becb1d1bf0cf405249b6200caa2c97bd...   \n",
       "\n",
       "                                                path    family threshold  \\\n",
       "0  FCGs/mal_graphs/1263d19ea264fd53e7d21755752b37...     Mirai      True   \n",
       "1  FCGs/mal_graphs/48309f7ef98e9597eedacc02fba7ba...     Mirai      True   \n",
       "2  FCGs/mal_graphs/f399487df0dd96d02f6a4a95b1dd4f...     Mirai      True   \n",
       "3  FCGs/mal_graphs/a9451891dd42875fb275a14cf7b597...  Bashlite      True   \n",
       "4  FCGs/mal_graphs/80dca6a3359ca5becb1d1bf0cf4052...     Mirai      True   \n",
       "\n",
       "    arch  label  malicious  \n",
       "0  x86el      0          1  \n",
       "1  x86el      0          1  \n",
       "2  x86el      0          1  \n",
       "3  x86el      1          1  \n",
       "4  x86el      0          1  "
      ]
     },
     "execution_count": 2,
     "metadata": {},
     "output_type": "execute_result"
    }
   ],
   "source": [
    "detector = True\n",
    "\n",
    "data_info = 'dataset.csv'\n",
    "fcg_dir = 'FCGs/'\n",
    "w2v_path = 'model_saved/word2vec.wordvectors'\n",
    "gnn_path = 'model_saved/gcn.pt'\n",
    "\n",
    "fpaths = get_file_paths(fcg_dir)\n",
    "fnames = [os.path.splitext(os.path.basename(path))[0] for path in fpaths]\n",
    "exist_df = pd.DataFrame({'sha256': fnames, 'path': fpaths})\n",
    "\n",
    "islab_names = {'sha256': str, 'family': str, 'threshold': str, 'arch': str}\n",
    "islab_df = pd.read_csv(data_info, low_memory=False, names=islab_names, dtype=islab_names, skiprows=1)\n",
    "islab_df = islab_df[~islab_df.family.isin(['Unknown'])]\n",
    "ds_df = islab_df[islab_df.arch.isin(['x86el', 'x86_64el'])]\n",
    "ds_df = exist_df.merge(ds_df, how='inner')\n",
    "\n",
    "mal_dict = {fam: int(fam!='BenignWare') for fam in ds_df.family.unique()}\n",
    "family_dict = {fam: i for i, fam in enumerate(ds_df.family.unique())}\n",
    "\n",
    "ds_df = ds_df.assign(label=ds_df.family.map(family_dict))\n",
    "ds_df = ds_df.assign(malicious=ds_df.family.map(mal_dict))\n",
    "ds_df = ds_df.reset_index(drop=True)\n",
    "ds_df.head()"
   ]
  },
  {
   "cell_type": "code",
   "execution_count": 3,
   "id": "e1eb2d0d-01ed-4619-ba28-10a679948e00",
   "metadata": {
    "tags": []
   },
   "outputs": [
    {
     "data": {
      "text/plain": [
       "BenignWare    16649\n",
       "Bashlite      12541\n",
       "Mirai         11552\n",
       "Android        1993\n",
       "Tsunami        1402\n",
       "Xorddos         603\n",
       "Dofloo          594\n",
       "Pnscan           13\n",
       "Name: family, dtype: int64"
      ]
     },
     "execution_count": 3,
     "metadata": {},
     "output_type": "execute_result"
    }
   ],
   "source": [
    "ds_df.family.value_counts()"
   ]
  },
  {
   "cell_type": "code",
   "execution_count": 4,
   "id": "b97d721e-01ba-4703-9ce6-ca532d0d5452",
   "metadata": {
    "tags": []
   },
   "outputs": [],
   "source": [
    "processor = DataProcessor()\n",
    "processor.load(w2v_path)\n",
    "\n",
    "def get_data(path, label=None):\n",
    "    G = read_pickle(path)\n",
    "    if len(G.edges) == 0:\n",
    "        # will be filtered out later\n",
    "        return None\n",
    "    \n",
    "    x, edge_index = processor.from_networkx(G)\n",
    "    if label is not None:\n",
    "        return Data(x=x, edge_index=edge_index, y=label)\n",
    "    return Data(x=x, edge_index=edge_index)"
   ]
  },
  {
   "cell_type": "code",
   "execution_count": 5,
   "id": "4e021078-b7fe-46c4-8b69-0986ca41e45a",
   "metadata": {
    "tags": []
   },
   "outputs": [
    {
     "name": "stdout",
     "output_type": "stream",
     "text": [
      "Processing Training ...\n"
     ]
    },
    {
     "name": "stderr",
     "output_type": "stream",
     "text": [
      "100%|██████████| 36277/36277 [24:25<00:00, 24.76it/s]\n"
     ]
    },
    {
     "name": "stdout",
     "output_type": "stream",
     "text": [
      "Processing Validation ...\n"
     ]
    },
    {
     "name": "stderr",
     "output_type": "stream",
     "text": [
      "100%|██████████| 9070/9070 [05:25<00:00, 27.85it/s]\n"
     ]
    },
    {
     "name": "stdout",
     "output_type": "stream",
     "text": [
      "Train in total: 35281\n",
      "Valid in total: 8847\n"
     ]
    }
   ],
   "source": [
    "num_train = 0.8\n",
    "# num_valid = 2000\n",
    "workers = 20\n",
    "column = 'malicious' if detector else 'label'\n",
    "\n",
    "train_df, valid_df = split_df(df=ds_df,    n_or_frac=num_train, column=column, shuffle=True, allow_lower_n=True)\n",
    "# valid_df, test_df  = split_df(df=valid_df, n_or_frac=num_valid, column=column, shuffle=True, allow_lower_n=True)\n",
    "train_pairs = train_df[['path', column]].to_numpy()\n",
    "valid_pairs = valid_df[['path', column]].to_numpy()\n",
    "\n",
    "print('Processing Training ...')\n",
    "train_ds = Parallel(n_jobs=workers)(delayed(get_data)(path, label) for path, label in tqdm(train_pairs))\n",
    "train_ds = [data for data in train_ds if not data is None]\n",
    "print('Processing Validation ...')\n",
    "valid_ds = Parallel(n_jobs=workers)(delayed(get_data)(path, label) for path, label in tqdm(valid_pairs))\n",
    "valid_ds = [data for data in valid_ds if not data is None]\n",
    "\n",
    "print(f'Train in total: {len(train_ds)}')\n",
    "print(f'Valid in total: {len(valid_ds)}')"
   ]
  },
  {
   "cell_type": "code",
   "execution_count": 8,
   "id": "3773dbf6-4bfc-4f78-8fcb-c1f4410cbda4",
   "metadata": {
    "tags": []
   },
   "outputs": [],
   "source": [
    "epochs     = 20\n",
    "batch_size = 64\n",
    "device     = torch.device('cuda' if torch.cuda.is_available() else 'cpu')\n",
    "\n",
    "num_features = train_ds[0].num_node_features\n",
    "num_classes  = len(ds_df[column].unique())\n",
    "train_loader = DataLoader(train_ds, batch_size=batch_size, num_workers=0, drop_last=True, shuffle=True, pin_memory=True)\n",
    "valid_loader = DataLoader(valid_ds, batch_size=128, num_workers=0, drop_last=False)"
   ]
  },
  {
   "cell_type": "code",
   "execution_count": 16,
   "id": "8db43476-7b76-4d51-8dab-2d7cd56a6b4b",
   "metadata": {
    "tags": []
   },
   "outputs": [
    {
     "name": "stdout",
     "output_type": "stream",
     "text": [
      "Device: cuda\n",
      "\n",
      "Model: \n",
      "GCN(\n",
      "  (conv1): GCNConv(128, 64)\n",
      "  (conv2): GCNConv(64, 64)\n",
      "  (lin1): Linear(in_features=64, out_features=128, bias=True)\n",
      "  (lin2): Linear(in_features=128, out_features=128, bias=True)\n",
      "  (lin): Linear(in_features=128, out_features=2, bias=True)\n",
      ")\n",
      "\n",
      "Optimizer: \n",
      "Adam (\n",
      "Parameter Group 0\n",
      "    amsgrad: False\n",
      "    betas: (0.9, 0.999)\n",
      "    capturable: False\n",
      "    differentiable: False\n",
      "    eps: 1e-08\n",
      "    foreach: None\n",
      "    fused: False\n",
      "    lr: 0.0001\n",
      "    maximize: False\n",
      "    weight_decay: 0\n",
      ")\n",
      "\n",
      "Criterion: CrossEntropyLoss()\n",
      "\n"
     ]
    }
   ],
   "source": [
    "model = GCN(num_features=num_features, hidden_channels=64, num_classes=num_classes).to(device)\n",
    "\n",
    "# define device of model before sending to the optimizer model.parameters() \n",
    "optimizer = torch.optim.Adam(model.parameters(), lr=0.0001)\n",
    "criterion = torch.nn.CrossEntropyLoss()\n",
    "\n",
    "print(f'Device: {device}\\n')\n",
    "print(f'Model: \\n{model}\\n')\n",
    "print(f'Optimizer: \\n{optimizer}\\n')\n",
    "print(f'Criterion: {criterion}\\n')"
   ]
  },
  {
   "cell_type": "code",
   "execution_count": 17,
   "id": "cd09c802-50b9-43ef-9ecd-50dd7e3e22a2",
   "metadata": {
    "tags": []
   },
   "outputs": [
    {
     "name": "stdout",
     "output_type": "stream",
     "text": [
      "Epoch (1/20) Train Acc: 0.9040, Train Loss: 0.006430, Val Acc: 0.9055, Val Loss: 0.003211 -- Training Time: 3.97s\n",
      "Epoch (2/20) Train Acc: 0.9112, Train Loss: 0.006277, Val Acc: 0.9135, Val Loss: 0.003130 -- Training Time: 3.61s\n",
      "Epoch (3/20) Train Acc: 0.9155, Train Loss: 0.006201, Val Acc: 0.9167, Val Loss: 0.003101 -- Training Time: 3.67s\n",
      "Epoch (4/20) Train Acc: 0.9162, Train Loss: 0.006188, Val Acc: 0.9172, Val Loss: 0.003096 -- Training Time: 3.85s\n",
      "Epoch (5/20) Train Acc: 0.9168, Train Loss: 0.006179, Val Acc: 0.9179, Val Loss: 0.003092 -- Training Time: 2.95s\n",
      "Epoch (6/20) Train Acc: 0.9162, Train Loss: 0.006186, Val Acc: 0.9160, Val Loss: 0.003101 -- Training Time: 2.59s\n",
      "Epoch (7/20) Train Acc: 0.9150, Train Loss: 0.006206, Val Acc: 0.9151, Val Loss: 0.003114 -- Training Time: 2.53s\n",
      "Epoch (8/20) Train Acc: 0.9775, Train Loss: 0.005226, Val Acc: 0.9811, Val Loss: 0.002596 -- Training Time: 2.88s\n",
      "Epoch (9/20) Train Acc: 0.9840, Train Loss: 0.005123, Val Acc: 0.9861, Val Loss: 0.002555 -- Training Time: 3.73s\n",
      "Epoch (10/20) Train Acc: 0.9829, Train Loss: 0.005137, Val Acc: 0.9855, Val Loss: 0.002560 -- Training Time: 4.04s\n",
      "Epoch (11/20) Train Acc: 0.9876, Train Loss: 0.005069, Val Acc: 0.9889, Val Loss: 0.002534 -- Training Time: 3.94s\n",
      "Epoch (12/20) Train Acc: 0.9877, Train Loss: 0.005066, Val Acc: 0.9892, Val Loss: 0.002532 -- Training Time: 3.91s\n",
      "Epoch (13/20) Train Acc: 0.9878, Train Loss: 0.005065, Val Acc: 0.9895, Val Loss: 0.002531 -- Training Time: 3.83s\n",
      "Epoch (14/20) Train Acc: 0.9850, Train Loss: 0.005111, Val Acc: 0.9864, Val Loss: 0.002553 -- Training Time: 3.89s\n",
      "Epoch (15/20) Train Acc: 0.9883, Train Loss: 0.005058, Val Acc: 0.9897, Val Loss: 0.002527 -- Training Time: 3.70s\n",
      "Epoch (16/20) Train Acc: 0.9883, Train Loss: 0.005060, Val Acc: 0.9892, Val Loss: 0.002531 -- Training Time: 2.41s\n",
      "Epoch (17/20) Train Acc: 0.9883, Train Loss: 0.005057, Val Acc: 0.9899, Val Loss: 0.002526 -- Training Time: 3.64s\n",
      "Epoch (18/20) Train Acc: 0.9805, Train Loss: 0.005176, Val Acc: 0.9814, Val Loss: 0.002590 -- Training Time: 3.48s\n",
      "Epoch (19/20) Train Acc: 0.9867, Train Loss: 0.005080, Val Acc: 0.9882, Val Loss: 0.002536 -- Training Time: 3.86s\n",
      "Epoch (20/20) Train Acc: 0.9886, Train Loss: 0.005054, Val Acc: 0.9900, Val Loss: 0.002524 -- Training Time: 3.47s\n"
     ]
    }
   ],
   "source": [
    "trainer = TorchTrainer(model, optimizer=optimizer, criterion=criterion, device=device)\n",
    "trainer.train(train_loader=train_loader, \n",
    "              valid_loader=valid_loader, \n",
    "              epochs=20, \n",
    "              save_path='model_saved/gcn_model.pt', \n",
    "              verbose=True)"
   ]
  },
  {
   "cell_type": "code",
   "execution_count": 18,
   "id": "974d73c9-237a-4728-b98b-7d84e18e3bc6",
   "metadata": {
    "tags": []
   },
   "outputs": [
    {
     "data": {
      "text/plain": [
       "(0.9885539437896645, 0.005053608490834697)"
      ]
     },
     "execution_count": 18,
     "metadata": {},
     "output_type": "execute_result"
    }
   ],
   "source": [
    "trainer.test(train_loader)"
   ]
  },
  {
   "cell_type": "code",
   "execution_count": 38,
   "id": "ac5dd143-e352-4180-aacc-ecf4dab1ce57",
   "metadata": {
    "tags": []
   },
   "outputs": [
    {
     "data": {
      "text/plain": [
       "(0.990036231884058, 0.0025243777680494213)"
      ]
     },
     "execution_count": 38,
     "metadata": {},
     "output_type": "execute_result"
    }
   ],
   "source": [
    "trainer.test(valid_loader)"
   ]
  },
  {
   "cell_type": "code",
   "execution_count": null,
   "id": "e508849d-647c-4453-8172-f6dad9cffad8",
   "metadata": {},
   "outputs": [],
   "source": []
  },
  {
   "cell_type": "markdown",
   "id": "a9045e93-8691-4d50-b7db-ef00bc13a4fe",
   "metadata": {},
   "source": [
    "### prediction"
   ]
  },
  {
   "cell_type": "code",
   "execution_count": 13,
   "id": "beac23f6-c329-438a-bada-4f896b1f52a2",
   "metadata": {
    "tags": []
   },
   "outputs": [],
   "source": [
    "from utils import compute_metrices\n",
    "\n",
    "def evaluate(loader, model, device='cuda'):\n",
    "    preds = []\n",
    "    label = []\n",
    "    with torch.no_grad():\n",
    "        for data in loader:\n",
    "            data.to(device)\n",
    "            pred = model(data).cpu().detach().argmax(dim=1)\n",
    "            \n",
    "            label.append(data.y.cpu().detach())\n",
    "            preds.append(pred)\n",
    "    preds = torch.concat(preds)\n",
    "    label = torch.concat(label)\n",
    "    return preds, label"
   ]
  },
  {
   "cell_type": "code",
   "execution_count": 14,
   "id": "26e70fae-6415-4cc5-968b-294d82db1e6f",
   "metadata": {
    "tags": []
   },
   "outputs": [],
   "source": [
    "model = GCN(num_features=num_features, hidden_channels=64, num_classes=num_classes).to(device)\n",
    "trainer = TorchTrainer(model)\n",
    "trainer.load('model_saved/gcn_model.pt')"
   ]
  },
  {
   "cell_type": "code",
   "execution_count": 16,
   "id": "cbe5e113-fc83-4d6b-b239-92c1434fdd7e",
   "metadata": {
    "tags": []
   },
   "outputs": [
    {
     "data": {
      "text/plain": [
       "{'accuracy': 0.9898763611615246,\n",
       " 'precision': 0.994335054136781,\n",
       " 'recall': 0.9894081280116375,\n",
       " 'f1': 0.9918654726912297}"
      ]
     },
     "execution_count": 16,
     "metadata": {},
     "output_type": "execute_result"
    }
   ],
   "source": [
    "preds, labels = evaluate(train_loader, trainer.model)\n",
    "compute_metrices(labels, preds)"
   ]
  },
  {
   "cell_type": "code",
   "execution_count": 17,
   "id": "770713d4-d02d-4e88-8c64-0f85de184f15",
   "metadata": {
    "tags": []
   },
   "outputs": [
    {
     "data": {
      "text/plain": [
       "{'accuracy': 0.988357635356618,\n",
       " 'precision': 0.9929142441860465,\n",
       " 'recall': 0.9884246699222282,\n",
       " 'f1': 0.9906643705247892}"
      ]
     },
     "execution_count": 17,
     "metadata": {},
     "output_type": "execute_result"
    }
   ],
   "source": [
    "preds, labels = evaluate(valid_loader, trainer.model)\n",
    "compute_metrices(labels, preds)"
   ]
  },
  {
   "cell_type": "code",
   "execution_count": null,
   "id": "c50a58d7-01e7-4169-95c4-08889d87e3e4",
   "metadata": {},
   "outputs": [],
   "source": []
  },
  {
   "cell_type": "markdown",
   "id": "721789ec-669b-4923-8d29-0752773a5266",
   "metadata": {},
   "source": [
    "### Adv"
   ]
  },
  {
   "cell_type": "code",
   "execution_count": 1,
   "id": "742b925e-4f0d-4ba0-b109-43c2a7ca6be1",
   "metadata": {
    "tags": []
   },
   "outputs": [],
   "source": [
    "import os\n",
    "import numpy as np\n",
    "import pandas as pd\n",
    "import networkx as nx\n",
    "from tqdm import tqdm\n",
    "from datetime import datetime\n",
    "from joblib import Parallel, delayed\n",
    "\n",
    "import torch\n",
    "import torch.nn as nn\n",
    "import torch.nn.functional as F\n",
    "import torch.optim as optim\n",
    "\n",
    "import torch_geometric as pyg\n",
    "from torch_geometric.data import Data\n",
    "from torch_geometric.loader import DataLoader\n",
    "\n",
    "from models import GCN, TorchTrainer\n",
    "from utils import read_pickle, DataProcessor"
   ]
  },
  {
   "cell_type": "code",
   "execution_count": 3,
   "id": "330fc2f9-954f-44ca-b00b-5bbff64f25e6",
   "metadata": {},
   "outputs": [],
   "source": [
    "hsin_ae_dir = 'FCGs/ae_graphs/Hsin'\n",
    "w2v_path = 'model_saved/word2vec.wordvectors'\n",
    "gnn_path = 'model_saved/gcn_model.pt'\n",
    "\n",
    "fpaths = [os.path.join(hsin_ae_dir, f) for f in os.listdir(hsin_ae_dir)]\n",
    "processor = DataProcessor()\n",
    "processor.load(w2v_path)\n",
    "\n",
    "def get_data(path, label=None):\n",
    "    G = read_pickle(path)\n",
    "    if len(G.edges) == 0:\n",
    "        # will be filtered out later\n",
    "        return None\n",
    "    \n",
    "    x, edge_index = processor.from_networkx(G)\n",
    "    if label is not None:\n",
    "        return Data(x=x, edge_index=edge_index, y=label)\n",
    "    return Data(x=x, edge_index=edge_index)"
   ]
  },
  {
   "cell_type": "code",
   "execution_count": 5,
   "id": "be3d84c3-85a5-42f2-a460-a171cf1abd56",
   "metadata": {
    "tags": []
   },
   "outputs": [
    {
     "data": {
      "text/plain": [
       "147"
      ]
     },
     "execution_count": 5,
     "metadata": {},
     "output_type": "execute_result"
    }
   ],
   "source": [
    "len(fpaths)"
   ]
  },
  {
   "cell_type": "code",
   "execution_count": 4,
   "id": "317ba089-0970-458c-8c23-f4939326813e",
   "metadata": {
    "tags": []
   },
   "outputs": [
    {
     "name": "stdout",
     "output_type": "stream",
     "text": [
      "Processing AEs ...\n"
     ]
    },
    {
     "name": "stderr",
     "output_type": "stream",
     "text": [
      "100%|██████████| 147/147 [00:07<00:00, 19.18it/s]\n"
     ]
    }
   ],
   "source": [
    "workers = 20\n",
    "\n",
    "print('Processing AEs ...')\n",
    "ae_ds = Parallel(n_jobs=workers)(delayed(get_data)(path) for path in tqdm(fpaths))\n",
    "ae_ds = [data for data in ae_ds if not data is None]"
   ]
  },
  {
   "cell_type": "code",
   "execution_count": 4,
   "id": "4d7206d5-7dfa-441e-bc12-8f8ba709d4fb",
   "metadata": {
    "tags": []
   },
   "outputs": [],
   "source": [
    "epochs     = 20\n",
    "batch_size = 64\n",
    "device     = torch.device('cuda' if torch.cuda.is_available() else 'cpu')\n",
    "\n",
    "num_features = ae_ds[0].num_node_features\n",
    "# num_classes  = len(ds_df[column].unique())\n",
    "num_classes  = 2\n",
    "ae_loader = DataLoader(ae_ds, batch_size=batch_size, num_workers=0, drop_last=False)\n",
    "\n",
    "model = GCN(num_features=num_features, hidden_channels=64, num_classes=num_classes).to(device)\n",
    "trainer = TorchTrainer(model)\n",
    "trainer.load('model_saved/gcn_model.pt')"
   ]
  },
  {
   "cell_type": "code",
   "execution_count": 16,
   "id": "ad784c21-2549-40ba-9f03-cd1dca5d0052",
   "metadata": {
    "tags": []
   },
   "outputs": [
    {
     "data": {
      "text/plain": [
       "tensor(0.8837)"
      ]
     },
     "execution_count": 16,
     "metadata": {},
     "output_type": "execute_result"
    }
   ],
   "source": [
    "preds = trainer.predict(ae_loader).argmax(dim=1)\n",
    "asr = 1 - preds.sum() / preds.size(0)\n",
    "asr.numpy()"
   ]
  },
  {
   "cell_type": "code",
   "execution_count": null,
   "id": "ba8480a0-b404-483a-b106-a37078b44b4d",
   "metadata": {},
   "outputs": [],
   "source": []
  }
 ],
 "metadata": {
  "kernelspec": {
   "display_name": "Python 3 (ipykernel)",
   "language": "python",
   "name": "python3"
  },
  "language_info": {
   "codemirror_mode": {
    "name": "ipython",
    "version": 3
   },
   "file_extension": ".py",
   "mimetype": "text/x-python",
   "name": "python",
   "nbconvert_exporter": "python",
   "pygments_lexer": "ipython3",
   "version": "3.8.13"
  }
 },
 "nbformat": 4,
 "nbformat_minor": 5
}
