{
 "cells": [
  {
   "cell_type": "code",
   "execution_count": 1,
   "id": "8d799520-af6a-4966-9ca6-0b7d5b95c1bb",
   "metadata": {
    "tags": []
   },
   "outputs": [
    {
     "name": "stdout",
     "output_type": "stream",
     "text": [
      "Versions\n",
      "--------------------\n",
      "Pytorch              1.13.1+cu117\n",
      "Pytorch-Geometric    2.2.0\n",
      "Pytorch-Lightning    1.8.6\n",
      "MLFlow               2.3.1\n",
      "--------------------\n",
      "GPU Support          True\n"
     ]
    }
   ],
   "source": [
    "import os\n",
    "import numpy as np\n",
    "import pandas as pd\n",
    "import networkx as nx\n",
    "from tqdm import tqdm\n",
    "from datetime import datetime\n",
    "from joblib import Parallel, delayed\n",
    "\n",
    "import torch\n",
    "import torch.nn as nn\n",
    "import torch.nn.functional as F\n",
    "import torch.optim as optim\n",
    "\n",
    "import torch_geometric as pyg\n",
    "from torch_geometric.data import Data\n",
    "from torch_geometric.loader import DataLoader\n",
    "\n",
    "from models import GCN\n",
    "from utils import read_pickle, split_df, get_file_paths, DataProcessor\n",
    "\n",
    "print('Versions')\n",
    "print('-' * 20)\n",
    "print(f'{\"Pytorch\":<20} {torch.__version__}')\n",
    "print(f'{\"Pytorch-Geometric\":<20} {pyg.__version__}')\n",
    "print(f'{\"Pytorch-Lightning\":<20} {pl.__version__}')\n",
    "print(f'{\"MLFlow\":<20} {mlflow.__version__}')\n",
    "print('-' * 20)\n",
    "print(f'{\"GPU Support\":<20} {torch.cuda.is_available()}')"
   ]
  },
  {
   "cell_type": "code",
   "execution_count": 2,
   "id": "79b043aa-d426-41bc-b7ff-7c1e90f34884",
   "metadata": {
    "tags": []
   },
   "outputs": [
    {
     "data": {
      "text/html": [
       "<div>\n",
       "<style scoped>\n",
       "    .dataframe tbody tr th:only-of-type {\n",
       "        vertical-align: middle;\n",
       "    }\n",
       "\n",
       "    .dataframe tbody tr th {\n",
       "        vertical-align: top;\n",
       "    }\n",
       "\n",
       "    .dataframe thead th {\n",
       "        text-align: right;\n",
       "    }\n",
       "</style>\n",
       "<table border=\"1\" class=\"dataframe\">\n",
       "  <thead>\n",
       "    <tr style=\"text-align: right;\">\n",
       "      <th></th>\n",
       "      <th>sha256</th>\n",
       "      <th>path</th>\n",
       "      <th>family</th>\n",
       "      <th>threshold</th>\n",
       "      <th>arch</th>\n",
       "      <th>label</th>\n",
       "      <th>malicious</th>\n",
       "    </tr>\n",
       "  </thead>\n",
       "  <tbody>\n",
       "    <tr>\n",
       "      <th>0</th>\n",
       "      <td>1263d19ea264fd53e7d21755752b37101ba247ed6d0e24...</td>\n",
       "      <td>FCGs/mal_graphs/1263d19ea264fd53e7d21755752b37...</td>\n",
       "      <td>Mirai</td>\n",
       "      <td>True</td>\n",
       "      <td>x86el</td>\n",
       "      <td>0</td>\n",
       "      <td>1</td>\n",
       "    </tr>\n",
       "    <tr>\n",
       "      <th>1</th>\n",
       "      <td>48309f7ef98e9597eedacc02fba7ba3761e6f00712adbb...</td>\n",
       "      <td>FCGs/mal_graphs/48309f7ef98e9597eedacc02fba7ba...</td>\n",
       "      <td>Mirai</td>\n",
       "      <td>True</td>\n",
       "      <td>x86el</td>\n",
       "      <td>0</td>\n",
       "      <td>1</td>\n",
       "    </tr>\n",
       "    <tr>\n",
       "      <th>2</th>\n",
       "      <td>f399487df0dd96d02f6a4a95b1dd4f6e1934d92463d06f...</td>\n",
       "      <td>FCGs/mal_graphs/f399487df0dd96d02f6a4a95b1dd4f...</td>\n",
       "      <td>Mirai</td>\n",
       "      <td>True</td>\n",
       "      <td>x86el</td>\n",
       "      <td>0</td>\n",
       "      <td>1</td>\n",
       "    </tr>\n",
       "    <tr>\n",
       "      <th>3</th>\n",
       "      <td>a9451891dd42875fb275a14cf7b5970d3de488f6557d12...</td>\n",
       "      <td>FCGs/mal_graphs/a9451891dd42875fb275a14cf7b597...</td>\n",
       "      <td>Bashlite</td>\n",
       "      <td>True</td>\n",
       "      <td>x86el</td>\n",
       "      <td>1</td>\n",
       "      <td>1</td>\n",
       "    </tr>\n",
       "    <tr>\n",
       "      <th>4</th>\n",
       "      <td>80dca6a3359ca5becb1d1bf0cf405249b6200caa2c97bd...</td>\n",
       "      <td>FCGs/mal_graphs/80dca6a3359ca5becb1d1bf0cf4052...</td>\n",
       "      <td>Mirai</td>\n",
       "      <td>True</td>\n",
       "      <td>x86el</td>\n",
       "      <td>0</td>\n",
       "      <td>1</td>\n",
       "    </tr>\n",
       "  </tbody>\n",
       "</table>\n",
       "</div>"
      ],
      "text/plain": [
       "                                              sha256  \\\n",
       "0  1263d19ea264fd53e7d21755752b37101ba247ed6d0e24...   \n",
       "1  48309f7ef98e9597eedacc02fba7ba3761e6f00712adbb...   \n",
       "2  f399487df0dd96d02f6a4a95b1dd4f6e1934d92463d06f...   \n",
       "3  a9451891dd42875fb275a14cf7b5970d3de488f6557d12...   \n",
       "4  80dca6a3359ca5becb1d1bf0cf405249b6200caa2c97bd...   \n",
       "\n",
       "                                                path    family threshold  \\\n",
       "0  FCGs/mal_graphs/1263d19ea264fd53e7d21755752b37...     Mirai      True   \n",
       "1  FCGs/mal_graphs/48309f7ef98e9597eedacc02fba7ba...     Mirai      True   \n",
       "2  FCGs/mal_graphs/f399487df0dd96d02f6a4a95b1dd4f...     Mirai      True   \n",
       "3  FCGs/mal_graphs/a9451891dd42875fb275a14cf7b597...  Bashlite      True   \n",
       "4  FCGs/mal_graphs/80dca6a3359ca5becb1d1bf0cf4052...     Mirai      True   \n",
       "\n",
       "    arch  label  malicious  \n",
       "0  x86el      0          1  \n",
       "1  x86el      0          1  \n",
       "2  x86el      0          1  \n",
       "3  x86el      1          1  \n",
       "4  x86el      0          1  "
      ]
     },
     "execution_count": 2,
     "metadata": {},
     "output_type": "execute_result"
    }
   ],
   "source": [
    "detector = True\n",
    "\n",
    "data_info = 'dataset.csv'\n",
    "fcg_dir = 'FCGs/'\n",
    "w2v_path = 'model_saved/word2vec.wordvectors'\n",
    "gnn_path = 'model_saved/gcn.pt'\n",
    "\n",
    "fpaths = get_file_paths(fcg_dir)\n",
    "fnames = [os.path.splitext(os.path.basename(path))[0] for path in fpaths]\n",
    "exist_df = pd.DataFrame({'sha256': fnames, 'path': fpaths})\n",
    "\n",
    "islab_names = {'sha256': str, 'family': str, 'threshold': str, 'arch': str}\n",
    "islab_df = pd.read_csv(data_info, low_memory=False, names=islab_names, dtype=islab_names, skiprows=1)\n",
    "islab_df = islab_df[~islab_df.family.isin(['Unknown'])]\n",
    "ds_df = islab_df[islab_df.arch.isin(['x86el', 'x86_64el'])]\n",
    "ds_df = exist_df.merge(ds_df, how='inner')\n",
    "\n",
    "mal_dict = {fam: int(fam!='BenignWare') for fam in ds_df.family.unique()}\n",
    "family_dict = {fam: i for i, fam in enumerate(ds_df.family.unique())}\n",
    "\n",
    "ds_df = ds_df.assign(label=ds_df.family.map(family_dict))\n",
    "ds_df = ds_df.assign(malicious=ds_df.family.map(mal_dict))\n",
    "ds_df = ds_df.reset_index(drop=True)\n",
    "ds_df.head()"
   ]
  },
  {
   "cell_type": "code",
   "execution_count": 3,
   "id": "9d623d50-56c7-47eb-b0e1-cc8976559e27",
   "metadata": {
    "tags": []
   },
   "outputs": [
    {
     "data": {
      "text/html": [
       "<div>\n",
       "<style scoped>\n",
       "    .dataframe tbody tr th:only-of-type {\n",
       "        vertical-align: middle;\n",
       "    }\n",
       "\n",
       "    .dataframe tbody tr th {\n",
       "        vertical-align: top;\n",
       "    }\n",
       "\n",
       "    .dataframe thead th {\n",
       "        text-align: right;\n",
       "    }\n",
       "</style>\n",
       "<table border=\"1\" class=\"dataframe\">\n",
       "  <thead>\n",
       "    <tr style=\"text-align: right;\">\n",
       "      <th></th>\n",
       "      <th>sha256</th>\n",
       "      <th>path</th>\n",
       "      <th>family</th>\n",
       "      <th>threshold</th>\n",
       "      <th>arch</th>\n",
       "      <th>label</th>\n",
       "      <th>malicious</th>\n",
       "    </tr>\n",
       "  </thead>\n",
       "  <tbody>\n",
       "    <tr>\n",
       "      <th>0</th>\n",
       "      <td>1263d19ea264fd53e7d21755752b37101ba247ed6d0e24...</td>\n",
       "      <td>FCGs/mal_graphs/1263d19ea264fd53e7d21755752b37...</td>\n",
       "      <td>Mirai</td>\n",
       "      <td>True</td>\n",
       "      <td>x86el</td>\n",
       "      <td>0</td>\n",
       "      <td>1</td>\n",
       "    </tr>\n",
       "    <tr>\n",
       "      <th>1</th>\n",
       "      <td>24d1f3cf1b59b3820c646e9321b01421886b85fa593858...</td>\n",
       "      <td>FCGs/mal_graphs/24d1f3cf1b59b3820c646e9321b014...</td>\n",
       "      <td>Mirai</td>\n",
       "      <td>True</td>\n",
       "      <td>x86el</td>\n",
       "      <td>0</td>\n",
       "      <td>1</td>\n",
       "    </tr>\n",
       "    <tr>\n",
       "      <th>2</th>\n",
       "      <td>07545ca8f66e704fd2ef2ae9e126a237d19c8816de6c83...</td>\n",
       "      <td>FCGs/mal_graphs/07545ca8f66e704fd2ef2ae9e126a2...</td>\n",
       "      <td>Bashlite</td>\n",
       "      <td>True</td>\n",
       "      <td>x86_64el</td>\n",
       "      <td>1</td>\n",
       "      <td>1</td>\n",
       "    </tr>\n",
       "    <tr>\n",
       "      <th>3</th>\n",
       "      <td>15b2d0442ce4c23ff41253a91fa4917645c1263c4d7e76...</td>\n",
       "      <td>FCGs/mal_graphs/15b2d0442ce4c23ff41253a91fa491...</td>\n",
       "      <td>Bashlite</td>\n",
       "      <td>True</td>\n",
       "      <td>x86el</td>\n",
       "      <td>1</td>\n",
       "      <td>1</td>\n",
       "    </tr>\n",
       "    <tr>\n",
       "      <th>4</th>\n",
       "      <td>13b374a94a2694302e4cc9efb396ff6b80cda757b4a424...</td>\n",
       "      <td>FCGs/mal_graphs/13b374a94a2694302e4cc9efb396ff...</td>\n",
       "      <td>Mirai</td>\n",
       "      <td>True</td>\n",
       "      <td>x86el</td>\n",
       "      <td>0</td>\n",
       "      <td>1</td>\n",
       "    </tr>\n",
       "    <tr>\n",
       "      <th>...</th>\n",
       "      <td>...</td>\n",
       "      <td>...</td>\n",
       "      <td>...</td>\n",
       "      <td>...</td>\n",
       "      <td>...</td>\n",
       "      <td>...</td>\n",
       "      <td>...</td>\n",
       "    </tr>\n",
       "    <tr>\n",
       "      <th>4960</th>\n",
       "      <td>18205bf131a3c053f5f3bbc7fa7acaeeaf00fc1874bf7a...</td>\n",
       "      <td>FCGs/mal_graphs/18205bf131a3c053f5f3bbc7fa7aca...</td>\n",
       "      <td>Bashlite</td>\n",
       "      <td>True</td>\n",
       "      <td>x86_64el</td>\n",
       "      <td>1</td>\n",
       "      <td>1</td>\n",
       "    </tr>\n",
       "    <tr>\n",
       "      <th>4961</th>\n",
       "      <td>1c868ea2c62e0b907c73daf7c7b294ad1dd92afe629532...</td>\n",
       "      <td>FCGs/mal_graphs/1c868ea2c62e0b907c73daf7c7b294...</td>\n",
       "      <td>Bashlite</td>\n",
       "      <td>False</td>\n",
       "      <td>x86_64el</td>\n",
       "      <td>1</td>\n",
       "      <td>1</td>\n",
       "    </tr>\n",
       "    <tr>\n",
       "      <th>4962</th>\n",
       "      <td>15a8a38894c8a88657ab2ee9eb68b13e07cc62d3c730a3...</td>\n",
       "      <td>FCGs/mal_graphs/15a8a38894c8a88657ab2ee9eb68b1...</td>\n",
       "      <td>Mirai</td>\n",
       "      <td>True</td>\n",
       "      <td>x86el</td>\n",
       "      <td>0</td>\n",
       "      <td>1</td>\n",
       "    </tr>\n",
       "    <tr>\n",
       "      <th>4963</th>\n",
       "      <td>25d667a13111b107bb2da8d428e47cfa5c265b88ad508f...</td>\n",
       "      <td>FCGs/mal_graphs/25d667a13111b107bb2da8d428e47c...</td>\n",
       "      <td>Bashlite</td>\n",
       "      <td>True</td>\n",
       "      <td>x86el</td>\n",
       "      <td>1</td>\n",
       "      <td>1</td>\n",
       "    </tr>\n",
       "    <tr>\n",
       "      <th>4964</th>\n",
       "      <td>02db84033a45bfe777b0a65e0e57962598fcc194b65a11...</td>\n",
       "      <td>FCGs/mal_graphs/02db84033a45bfe777b0a65e0e5796...</td>\n",
       "      <td>Bashlite</td>\n",
       "      <td>True</td>\n",
       "      <td>x86el</td>\n",
       "      <td>1</td>\n",
       "      <td>1</td>\n",
       "    </tr>\n",
       "  </tbody>\n",
       "</table>\n",
       "<p>4965 rows × 7 columns</p>\n",
       "</div>"
      ],
      "text/plain": [
       "                                                 sha256  \\\n",
       "0     1263d19ea264fd53e7d21755752b37101ba247ed6d0e24...   \n",
       "1     24d1f3cf1b59b3820c646e9321b01421886b85fa593858...   \n",
       "2     07545ca8f66e704fd2ef2ae9e126a237d19c8816de6c83...   \n",
       "3     15b2d0442ce4c23ff41253a91fa4917645c1263c4d7e76...   \n",
       "4     13b374a94a2694302e4cc9efb396ff6b80cda757b4a424...   \n",
       "...                                                 ...   \n",
       "4960  18205bf131a3c053f5f3bbc7fa7acaeeaf00fc1874bf7a...   \n",
       "4961  1c868ea2c62e0b907c73daf7c7b294ad1dd92afe629532...   \n",
       "4962  15a8a38894c8a88657ab2ee9eb68b13e07cc62d3c730a3...   \n",
       "4963  25d667a13111b107bb2da8d428e47cfa5c265b88ad508f...   \n",
       "4964  02db84033a45bfe777b0a65e0e57962598fcc194b65a11...   \n",
       "\n",
       "                                                   path    family threshold  \\\n",
       "0     FCGs/mal_graphs/1263d19ea264fd53e7d21755752b37...     Mirai      True   \n",
       "1     FCGs/mal_graphs/24d1f3cf1b59b3820c646e9321b014...     Mirai      True   \n",
       "2     FCGs/mal_graphs/07545ca8f66e704fd2ef2ae9e126a2...  Bashlite      True   \n",
       "3     FCGs/mal_graphs/15b2d0442ce4c23ff41253a91fa491...  Bashlite      True   \n",
       "4     FCGs/mal_graphs/13b374a94a2694302e4cc9efb396ff...     Mirai      True   \n",
       "...                                                 ...       ...       ...   \n",
       "4960  FCGs/mal_graphs/18205bf131a3c053f5f3bbc7fa7aca...  Bashlite      True   \n",
       "4961  FCGs/mal_graphs/1c868ea2c62e0b907c73daf7c7b294...  Bashlite     False   \n",
       "4962  FCGs/mal_graphs/15a8a38894c8a88657ab2ee9eb68b1...     Mirai      True   \n",
       "4963  FCGs/mal_graphs/25d667a13111b107bb2da8d428e47c...  Bashlite      True   \n",
       "4964  FCGs/mal_graphs/02db84033a45bfe777b0a65e0e5796...  Bashlite      True   \n",
       "\n",
       "          arch  label  malicious  \n",
       "0        x86el      0          1  \n",
       "1        x86el      0          1  \n",
       "2     x86_64el      1          1  \n",
       "3        x86el      1          1  \n",
       "4        x86el      0          1  \n",
       "...        ...    ...        ...  \n",
       "4960  x86_64el      1          1  \n",
       "4961  x86_64el      1          1  \n",
       "4962     x86el      0          1  \n",
       "4963     x86el      1          1  \n",
       "4964     x86el      1          1  \n",
       "\n",
       "[4965 rows x 7 columns]"
      ]
     },
     "execution_count": 3,
     "metadata": {},
     "output_type": "execute_result"
    }
   ],
   "source": [
    "with open('names', 'r') as f:\n",
    "    names = [name.strip() for name in f.readlines()]\n",
    "\n",
    "ds_islab = ds_df[ds_df.sha256.isin(names)].reset_index(drop=True)\n",
    "ds_islab"
   ]
  },
  {
   "cell_type": "code",
   "execution_count": 9,
   "id": "e1eb2d0d-01ed-4619-ba28-10a679948e00",
   "metadata": {
    "tags": []
   },
   "outputs": [
    {
     "data": {
      "text/plain": [
       "BenignWare    14659\n",
       "Bashlite      12541\n",
       "Mirai         11552\n",
       "Android        1993\n",
       "Tsunami        1402\n",
       "Xorddos         603\n",
       "Dofloo          594\n",
       "Pnscan           13\n",
       "Name: family, dtype: int64"
      ]
     },
     "execution_count": 9,
     "metadata": {},
     "output_type": "execute_result"
    }
   ],
   "source": [
    "ds_df.family.value_counts()"
   ]
  },
  {
   "cell_type": "code",
   "execution_count": 10,
   "id": "b97d721e-01ba-4703-9ce6-ca532d0d5452",
   "metadata": {
    "tags": []
   },
   "outputs": [],
   "source": [
    "processor = DataProcessor()\n",
    "processor.load(w2v_path)\n",
    "\n",
    "def get_data(path, label):\n",
    "    G = read_pickle(path)\n",
    "    if len(G.edges) == 0:\n",
    "        # will be filtered out later\n",
    "        return None\n",
    "    \n",
    "    x, edge_index = processor.from_networkx(G)\n",
    "    return Data(x=x, edge_index=edge_index, y=label)"
   ]
  },
  {
   "cell_type": "code",
   "execution_count": 11,
   "id": "4e021078-b7fe-46c4-8b69-0986ca41e45a",
   "metadata": {
    "tags": []
   },
   "outputs": [
    {
     "name": "stdout",
     "output_type": "stream",
     "text": [
      "Processing Training ...\n"
     ]
    },
    {
     "name": "stderr",
     "output_type": "stream",
     "text": [
      "100%|██████████| 20000/20000 [13:42<00:00, 24.31it/s]\n"
     ]
    },
    {
     "name": "stdout",
     "output_type": "stream",
     "text": [
      "Processing Validation ...\n"
     ]
    },
    {
     "name": "stderr",
     "output_type": "stream",
     "text": [
      "100%|██████████| 4000/4000 [02:26<00:00, 27.22it/s]\n"
     ]
    },
    {
     "name": "stdout",
     "output_type": "stream",
     "text": [
      "Train in total: 19576\n",
      "Valid in total: 3906\n"
     ]
    }
   ],
   "source": [
    "num_train = 10000\n",
    "num_valid = 2000\n",
    "workers = 20\n",
    "column = 'malicious' if detector else 'label'\n",
    "\n",
    "train_df, valid_df = split_df(df=ds_df,    n_or_frac=num_train, column=column, shuffle=True, allow_lower_n=True)\n",
    "valid_df, test_df  = split_df(df=valid_df, n_or_frac=num_valid, column=column, shuffle=True, allow_lower_n=True)\n",
    "train_pairs = train_df[['path', column]].to_numpy()\n",
    "valid_pairs = valid_df[['path', column]].to_numpy()\n",
    "\n",
    "print('Processing Training ...')\n",
    "train_ds = Parallel(n_jobs=workers)(delayed(get_data)(path, label) for path, label in tqdm(train_pairs))\n",
    "train_ds = [data for data in train_ds if not data is None]\n",
    "print('Processing Validation ...')\n",
    "valid_ds = Parallel(n_jobs=workers)(delayed(get_data)(path, label) for path, label in tqdm(valid_pairs))\n",
    "valid_ds = [data for data in valid_ds if not data is None]\n",
    "\n",
    "print(f'Train in total: {len(train_ds)}')\n",
    "print(f'Valid in total: {len(valid_ds)}')"
   ]
  },
  {
   "cell_type": "code",
   "execution_count": 12,
   "id": "deb9bcae-5840-4744-8757-02554afcf040",
   "metadata": {
    "tags": []
   },
   "outputs": [],
   "source": [
    "def function_timer(some_function):\n",
    "    from time import time\n",
    "\n",
    "    def wrapper(*args, **kwargs):\n",
    "        t1 = time()\n",
    "        result = some_function(*args, **kwargs)\n",
    "        end = time()-t1\n",
    "        return result, end\n",
    "    return wrapper\n",
    "\n",
    "@function_timer\n",
    "def train():\n",
    "    model.train()\n",
    "\n",
    "    for data in train_loader:                             # Iterate in batches over the training dataset.\n",
    "        data.to(device)                                   # Train the data if gpu is available\n",
    "        out = model(data.x, data.edge_index, data.batch)  # Perform a single forward pass.\n",
    "        loss = criterion(out, data.y)                     # Compute the loss.\n",
    "        # print(help(loss))\n",
    "        loss.backward()                                   # Derive gradients.\n",
    "        optimizer.step()                                  # Update parameters based on gradients.\n",
    "        optimizer.zero_grad()                             # Clear gradients.\n",
    "\n",
    "def test(loader):\n",
    "    model.eval()\n",
    "\n",
    "    loss = 0\n",
    "    correct = 0\n",
    "    for data in loader:                                   # Iterate in batches over the training/test dataset.\n",
    "        data.to(device)                                   # Train the data if gpu is available\n",
    "        out = model(data.x, data.edge_index, data.batch)  # Predict the outcome by trained model\n",
    "        pred = out.argmax(dim=1)                          # Use the class with highest probability.\n",
    "        \n",
    "        correct += int((pred == data.y).sum())            # Check against ground-truth labels.\n",
    "        loss += criterion(out, data.y).item()             # Get the loss accumulated of each data sample\n",
    "        \n",
    "    acc = correct / len(loader.dataset)                   # Get the accuracy\n",
    "    avg_loss = loss / len(loader.dataset)                 # Get the average loss\n",
    "    \n",
    "    return (acc, avg_loss)                                # Return the accuracy and average loss"
   ]
  },
  {
   "cell_type": "code",
   "execution_count": 13,
   "id": "9c1c40f5-6e30-4b74-8e17-1c6470af14bd",
   "metadata": {
    "tags": []
   },
   "outputs": [],
   "source": [
    "batch_size = 64\n",
    "\n",
    "train_loader = DataLoader(train_ds, batch_size=batch_size, num_workers=0, drop_last=True, shuffle=True, pin_memory=True)\n",
    "valid_loader = DataLoader(valid_ds, batch_size=128, num_workers=0, drop_last=True)"
   ]
  },
  {
   "cell_type": "code",
   "execution_count": 14,
   "id": "e0a4817a-e725-414c-9f59-671100346ab7",
   "metadata": {
    "tags": []
   },
   "outputs": [
    {
     "name": "stdout",
     "output_type": "stream",
     "text": [
      "Device: cuda\n",
      "\n",
      "Model:\n",
      "GCN(\n",
      "  (conv1): GCNConv(128, 64)\n",
      "  (conv2): GCNConv(64, 64)\n",
      "  (lin): Linear(in_features=64, out_features=2, bias=True)\n",
      ")\n"
     ]
    }
   ],
   "source": [
    "data_sample = train_loader.dataset[0]\n",
    "# data_sample.num_node_features\n",
    "# data_sample.num_classes\n",
    "\n",
    "device = torch.device('cuda' if torch.cuda.is_available() else 'cpu')\n",
    "model = GCN(num_features=data_sample.num_node_features, hidden_channels=64, num_classes=len(ds_df[column].unique())).to(device)\n",
    "print(f'Device: {device}')\n",
    "print()\n",
    "print(f'Model:\\n{model}')"
   ]
  },
  {
   "cell_type": "code",
   "execution_count": 15,
   "id": "ba74dcba-e167-4f04-bdc6-a3f08b6ffd9d",
   "metadata": {
    "tags": []
   },
   "outputs": [],
   "source": [
    "optimizer = torch.optim.Adam(model.parameters(), lr=0.01)\n",
    "criterion = torch.nn.CrossEntropyLoss()\n",
    "epochs = 20"
   ]
  },
  {
   "cell_type": "code",
   "execution_count": 17,
   "id": "e998b347-994e-410e-8bab-4ade39d785cc",
   "metadata": {
    "tags": []
   },
   "outputs": [
    {
     "name": "stdout",
     "output_type": "stream",
     "text": [
      "Epoch (1/10) Train Acc: 0.9841, Train Loss: 0.050839, Val Acc: 0.9711, Val Loss: 0.047710 -- Training Time: 6.52s\n",
      "Epoch (2/10) Train Acc: 0.9864, Train Loss: 0.033898, Val Acc: 0.9741, Val Loss: 0.030060 -- Training Time: 6.52s\n",
      "Epoch (3/10) Train Acc: 0.9868, Train Loss: 0.030590, Val Acc: 0.9721, Val Loss: 0.022408 -- Training Time: 6.52s\n",
      "Epoch (4/10) Train Acc: 0.9900, Train Loss: 0.014174, Val Acc: 0.9759, Val Loss: 0.009709 -- Training Time: 6.52s\n",
      "Epoch (5/10) Train Acc: 0.9844, Train Loss: 0.029161, Val Acc: 0.9713, Val Loss: 0.025258 -- Training Time: 6.58s\n",
      "Epoch (6/10) Train Acc: 0.9900, Train Loss: 0.013536, Val Acc: 0.9752, Val Loss: 0.008985 -- Training Time: 6.52s\n",
      "Epoch (7/10) Train Acc: 0.9921, Train Loss: 0.007104, Val Acc: 0.9767, Val Loss: 0.004820 -- Training Time: 6.52s\n",
      "Epoch (8/10) Train Acc: 0.9936, Train Loss: 0.010532, Val Acc: 0.9777, Val Loss: 0.007781 -- Training Time: 6.52s\n",
      "Epoch (9/10) Train Acc: 0.9863, Train Loss: 0.018780, Val Acc: 0.9716, Val Loss: 0.013441 -- Training Time: 6.53s\n",
      "Epoch (10/10) Train Acc: 0.9857, Train Loss: 0.092514, Val Acc: 0.9716, Val Loss: 0.026098 -- Training Time: 6.52s\n"
     ]
    }
   ],
   "source": [
    "### WARNING: If computer get overheated, the training process will become unstable\n",
    "\n",
    "## Initialize the numpy array for accuracy and loss\n",
    "train_acc = np.zeros(epochs)\n",
    "train_loss = np.zeros(epochs)\n",
    "val_acc = np.zeros(epochs)\n",
    "val_loss = np.zeros(epochs)\n",
    "\n",
    "best_val_acc = 0\n",
    "for epoch in range(epochs):\n",
    "    epoch_start = f'Epoch ({epoch + 1}/{epochs})'\n",
    "    print(epoch_start, end=' ')\n",
    "    \n",
    "    # since train() returns nothing, so ignore the return with '_' and fetch the time taken\n",
    "    _, _time = train()\n",
    "    \n",
    "    # evaluate the training accuracy and validation accuracy after epoch epoch\n",
    "    train_acc[epoch], train_loss[epoch] = test(train_loader)\n",
    "    val_acc[epoch], val_loss[epoch] = test(valid_loader)\n",
    "    \n",
    "    if val_acc[epoch] > best_val_acc:\n",
    "        # save the best model according to validation accuracy\n",
    "        best_val_acc = val_acc[epoch]\n",
    "        torch.save(model, gnn_path)\n",
    "    \n",
    "    print(f'Train Acc: {train_acc[epoch]:.4f}, Train Loss: {train_loss[epoch]:>7.6f}', end=', ')\n",
    "    print(f'Val Acc: {val_acc[epoch]:.4f}, Val Loss: {val_loss[epoch]:>7.6f}', end=' -- ')\n",
    "    print(f'Training Time: {_time:.2f}s')"
   ]
  },
  {
   "cell_type": "code",
   "execution_count": null,
   "id": "7989742e-ee72-4028-a257-4395562e3ef8",
   "metadata": {},
   "outputs": [],
   "source": []
  },
  {
   "cell_type": "code",
   "execution_count": null,
   "id": "0eab5e56-918f-4f1b-9ee2-8a90b70f6894",
   "metadata": {},
   "outputs": [],
   "source": []
  },
  {
   "cell_type": "code",
   "execution_count": null,
   "id": "56221847-0a6d-4b8d-bef3-69c5fe0587da",
   "metadata": {},
   "outputs": [],
   "source": []
  }
 ],
 "metadata": {
  "kernelspec": {
   "display_name": "Python 3 (ipykernel)",
   "language": "python",
   "name": "python3"
  },
  "language_info": {
   "codemirror_mode": {
    "name": "ipython",
    "version": 3
   },
   "file_extension": ".py",
   "mimetype": "text/x-python",
   "name": "python",
   "nbconvert_exporter": "python",
   "pygments_lexer": "ipython3",
   "version": "3.8.13"
  }
 },
 "nbformat": 4,
 "nbformat_minor": 5
}
